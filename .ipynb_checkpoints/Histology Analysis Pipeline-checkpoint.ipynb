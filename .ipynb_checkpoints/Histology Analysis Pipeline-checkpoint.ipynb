{
 "cells": [
  {
   "cell_type": "markdown",
   "metadata": {},
   "source": [
    "# Import Statements"
   ]
  },
  {
   "cell_type": "code",
   "execution_count": 118,
   "metadata": {},
   "outputs": [],
   "source": [
    "import numpy as np\n",
    "import os\n",
    "from PIL import Image\n",
    "import matplotlib.pyplot as plt\n",
    "\n",
    "\n",
    "# import images\n",
    "image_dir = 'Input Images/'\n",
    "export_dir = 'Output Images/'\n",
    "cat_dir = 'Category Images/'"
   ]
  },
  {
   "cell_type": "markdown",
   "metadata": {},
   "source": [
    "# Analysis Modules"
   ]
  },
  {
   "cell_type": "code",
   "execution_count": 72,
   "metadata": {},
   "outputs": [],
   "source": [
    "class Cat_Generator:\n",
    "    \n",
    "    def __init__(self, cat_dir): \n",
    "        self.cat_dict = self.cat_generator(cat_dir)\n",
    "        \n",
    "    #takes a dictionary key corresponding to an image and returns a tuple with the average RGB values in the image\n",
    "    def avg_rgb(self, cat_image):\n",
    "        r = np.mean(cat_image[:,:,0].ravel())\n",
    "        g = np.mean(cat_image[:,:,1].ravel())\n",
    "        b = np.mean(cat_image[:,:,2].ravel())\n",
    "    \n",
    "        return (r,g,b)\n",
    "    \n",
    "    #takes a directory containing category images and returns key:value pairs for each category/image\n",
    "    def cat_generator(self, cat_dir):\n",
    "        cat_dict = {}\n",
    "        color_placeholder = (0,0,0)\n",
    "        for file in os.listdir(cat_dir): \n",
    "            cat_image = np.asarray(Image.open(cat_dir + file))\n",
    "            cat_rgb = self.avg_rgb(cat_image)\n",
    "            cat_dict[os.path.basename(file)] = [cat_rgb, color_placeholder]\n",
    "        \n",
    "        return cat_dict\n",
    "    \n",
    "    #allows a user to set the color replacement rgb values associated with each category\n",
    "    def cat_color(self, cat_key, rgb):\n",
    "        self.cat_dict[cat_key][1] = rgb\n",
    "        \n",
    "    #allow access to the dictionary\n",
    "    def d(self):\n",
    "        return self.cat_dict"
   ]
  },
  {
   "cell_type": "code",
   "execution_count": 138,
   "metadata": {},
   "outputs": [],
   "source": [
    "class Histology_CAT: \n",
    "    \n",
    "    def __init__(self, image_dir, export_dir, cat_dict):\n",
    "        \n",
    "        self.export_dir = export_dir #directory where processed images should be deposited\n",
    "        self.cat_dict = cat_dict #dictionary where each key:value pair corresponds to a classification category\n",
    "        \n",
    "        #generate dictionary of images from the directory of images\n",
    "        self.image_dict = {}\n",
    "        for file in os.listdir(image_dir): \n",
    "            self.image_dict[os.path.basename(file)] = np.asarray(Image.open(image_dir + file))\n",
    "            \n",
    "        #generate indexed list of keys from category dictionary (cat_dict)\n",
    "        self.cat_keys = []\n",
    "        for key in self.cat_dict:\n",
    "            self.cat_keys.append(key)\n",
    "            \n",
    "     \n",
    "    #process all images in the image directory\n",
    "    def kowalski(self):\n",
    "    \n",
    "        for image_key in self.image_dict:\n",
    "            self.img_recolor(image_key).save(self.export_dir + image_key, \"JPEG\")\n",
    "     \n",
    "        return \"All done, Skipper!\"\n",
    "            \n",
    "            \n",
    "    #given an image and a dictionary of categories, classify each pixel's category and then replace RGB values to match category RGB\n",
    "    def img_recolor(self, image_key):\n",
    "        #get stack of RGB differences for each category\n",
    "        cat_stack = []\n",
    "        for cat_key in self.cat_dict:\n",
    "            cat_stack.append(self.diff(image_key, cat_key))\n",
    "        cat_stack = np.asarray(cat_stack)\n",
    "        \n",
    "        #split stack & recolor each pixel\n",
    "        recolored_img = []\n",
    "        pxl_stack = np.split(cat_stack, np.shape(cat_stack)[1], axis = 1)\n",
    "        for pxl in pxl_stack:\n",
    "            cat_index = np.argmin(tuple(element.squeeze()))  \n",
    "            recolored_img.append(self.cat_dict[self.cat_keys[cat_index]][1])\n",
    "        recolored_img = np.asarray(recolored_img)\n",
    "        \n",
    "        #reshape 1D array into 2D image\n",
    "        pxl_x, pxl_y, _ = np.shape(self.image_dict[image_key])\n",
    "        np.reshape(recolored_img, (pxl_x, pxl_y, 3))\n",
    "        recolored_img = Image.fromarray(recolored_img, mode = 'RGB') #problem is probably that i'm passing ints but it wants 8 bit values\n",
    "        \n",
    "        return recolored_img\n",
    "        \n",
    "  \n",
    "    #returns a flattened array of the net difference in RGB of the histology image compared to the average RGB of a given category\n",
    "    def diff(self, image_key, cat_key):\n",
    "   \n",
    "        r_diff = self.image_dict[image_key][:,:,0].ravel() - self.cat_dict[cat_key][0][0]\n",
    "        g_diff = self.image_dict[image_key][:,:,1].ravel() - self.cat_dict[cat_key][0][1]\n",
    "        b_diff = self.image_dict[image_key][:,:,2].ravel() - self.cat_dict[cat_key][0][2]\n",
    "    \n",
    "        return r_diff + g_diff + b_diff"
   ]
  },
  {
   "cell_type": "markdown",
   "metadata": {},
   "source": [
    "# Kowalski, Analysis!"
   ]
  },
  {
   "cell_type": "code",
   "execution_count": 139,
   "metadata": {},
   "outputs": [
    {
     "name": "stdout",
     "output_type": "stream",
     "text": [
      "(5688, 3)\n",
      "79 72\n",
      "(1536, 3)\n",
      "24 64\n",
      "All done, Skipper!\n"
     ]
    }
   ],
   "source": [
    "cat_dict = Cat_Generator(cat_dir)\n",
    "cat_dict.cat_color(\"edge.jpg\",(0,0,0)) #black (implant)\n",
    "cat_dict.cat_color(\"implant.jpg\",(0,0,0)) #black (implant)\n",
    "cat_dict.cat_color(\"empty.jpg\",(255,255,255)) #white (empty)\n",
    "cat_dict.cat_color(\"stain_e.jpg\",(255,255,255)) #white (empty)\n",
    "cat_dict.cat_color(\"tissue.jpg\",(120,81,169)) #purple (tissue)\n",
    "cat_dict.cat_color(\"stain_t.jpg\",(120,81,169)) #purple (tissue)\n",
    "\n",
    "categorizer = Histology_CAT(image_dir, export_dir, cat_dict.d())\n",
    "print(categorizer.kowalski())"
   ]
  },
  {
   "cell_type": "code",
   "execution_count": null,
   "metadata": {},
   "outputs": [],
   "source": []
  }
 ],
 "metadata": {
  "kernelspec": {
   "display_name": "Python 3",
   "language": "python",
   "name": "python3"
  },
  "language_info": {
   "codemirror_mode": {
    "name": "ipython",
    "version": 3
   },
   "file_extension": ".py",
   "mimetype": "text/x-python",
   "name": "python",
   "nbconvert_exporter": "python",
   "pygments_lexer": "ipython3",
   "version": "3.8.5"
  }
 },
 "nbformat": 4,
 "nbformat_minor": 4
}
