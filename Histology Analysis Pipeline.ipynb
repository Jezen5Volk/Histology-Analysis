{
 "cells": [
  {
   "cell_type": "markdown",
   "metadata": {},
   "source": [
    "# Import Statements"
   ]
  },
  {
   "cell_type": "code",
   "execution_count": 37,
   "metadata": {},
   "outputs": [],
   "source": [
    "import numpy as np\n",
    "import os\n",
    "from PIL import Image\n",
    "import matplotlib.pyplot as plt\n",
    "from sklearn.cluster import KMeans\n",
    "from scipy.ndimage import median_filter\n",
    "\n",
    "\n",
    "# import images\n",
    "image_dir = 'Input Images/'\n",
    "export_dir = 'Output Images/'\n",
    "cat_dir = 'Category Images/'"
   ]
  },
  {
   "cell_type": "markdown",
   "metadata": {},
   "source": [
    "# Analysis Modules"
   ]
  },
  {
   "cell_type": "code",
   "execution_count": 49,
   "metadata": {},
   "outputs": [],
   "source": [
    "class Cat_Generator:\n",
    "    \n",
    "    def __init__(self, cat_dir): \n",
    "        self.cat_dict = self.cat_generator(cat_dir)\n",
    "        \n",
    "    #takes a dictionary key corresponding to an image and returns a tuple with the average RGB values in the image\n",
    "    def avg_rgb(self, cat_image):\n",
    "        r = np.median(cat_image[:,:,0].ravel()).squeeze()\n",
    "        g = np.median(cat_image[:,:,1].ravel()).squeeze()\n",
    "        b = np.median(cat_image[:,:,2].ravel()).squeeze()\n",
    "    \n",
    "        return (r,g,b)\n",
    "    \n",
    "    #takes a directory containing category images and returns key:value pairs for each category/image\n",
    "    def cat_generator(self, cat_dir):\n",
    "        cat_dict = {}\n",
    "        color_placeholder = (0,0,0)\n",
    "        for file in os.listdir(cat_dir): \n",
    "            cat_image = np.asarray(Image.open(cat_dir + file))\n",
    "            cat_rgb = self.avg_rgb(cat_image)\n",
    "            cat_dict[os.path.basename(file)] = [cat_rgb, color_placeholder]\n",
    "        \n",
    "        return cat_dict\n",
    "    \n",
    "    #allows a user to set the color replacement rgb values associated with each category\n",
    "    def cat_color(self, cat_key, rgb):\n",
    "        self.cat_dict[cat_key][1] = rgb\n",
    "        \n",
    "    #allow access to the dictionary\n",
    "    def d(self):\n",
    "        return self.cat_dict"
   ]
  },
  {
   "cell_type": "code",
   "execution_count": 50,
   "metadata": {},
   "outputs": [],
   "source": [
    "class Histology_CAT: \n",
    "    \n",
    "    def __init__(self, image_dir, export_dir, cat_dict):\n",
    "        \n",
    "        self.export_dir = export_dir #directory where processed images should be deposited\n",
    "        self.cat_dict = cat_dict #dictionary where each key:value pair corresponds to a classification category\n",
    "        self.image_key = None #filename of image currently being processed (gets reassigned during analysis)\n",
    "        \n",
    "        #generate dictionary of images from the directory of images\n",
    "        self.image_dict = {}\n",
    "        for file in os.listdir(image_dir): \n",
    "            self.image_dict[os.path.basename(file)] = np.asarray(Image.open(image_dir + file))\n",
    "            \n",
    "        #generate indexed list of keys from category dictionary (cat_dict)\n",
    "        self.cat_keys = []\n",
    "        for key in self.cat_dict:\n",
    "            self.cat_keys.append(key)\n",
    "            \n",
    "     \n",
    "    #process all images in the image directory\n",
    "    def kowalski(self, n_cluster, krnl_sz):\n",
    "    \n",
    "        for image_key in self.image_dict:\n",
    "            self.image_key = image_key\n",
    "            kmeans_arr = self.kmeans_quant(n_cluster)\n",
    "            medfilt_arr = self.med_filter(kmeans_arr, krnl_sz)\n",
    "            recolor_arr = self.naive_recolor(medfilt_arr)\n",
    "            medfilt_arr = self.med_filter(recolor_arr, krnl_sz*2)\n",
    "     \n",
    "        return \"All done, Skipper!\"\n",
    "    \n",
    "    \n",
    "    # Scatter-plot visualization in RGB space of the input image distribution\n",
    "    def visualize_dist(self, image_key):\n",
    "        r = self.image_dict[image_key][:,:,0].ravel()\n",
    "        g = self.image_dict[image_key][:,:,1].ravel()\n",
    "        b = self.image_dict[image_key][:,:,2].ravel()\n",
    "        \n",
    "        fig = plt.figure(figsize = (20,10))\n",
    "        ax = fig.add_subplot(projection='3d')\n",
    "        ax.scatter(r,g,b, marker = '.')\n",
    "        plt.show()\n",
    "       \n",
    "    \n",
    "    #perform K Means clustering to quantize RGB colors in the image \n",
    "    def kmeans_quant(self, n_cluster):\n",
    "        \n",
    "        flat_arr = self.image_dict[self.image_key].reshape((-1,3))\n",
    "        clustering = KMeans(n_clusters=n_cluster, random_state=42).fit(flat_arr)\n",
    "        labels = clustering.labels_\n",
    "        centers = clustering.cluster_centers_\n",
    "        quantized_arr = centers[labels].reshape(self.image_dict[self.image_key].shape).astype('uint8')\n",
    "        \n",
    "        #Save image after application of K Means clustering quantization\n",
    "        quantized_img = Image.fromarray(quantized_arr, mode = 'RGB') \n",
    "        quantized_img.save(self.export_dir + str(n_cluster) + \" quanta \"+ self.image_key, \"JPEG\")\n",
    "    \n",
    "        return quantized_arr\n",
    "    \n",
    "    \n",
    "    #perform median filtering to smooth local blemishes while keeping edges\n",
    "    def med_filter(self, image_arr, krnl_sz):\n",
    "        \n",
    "        filtered_arr = median_filter(image_arr, size = (krnl_sz, krnl_sz, 3))\n",
    "        \n",
    "        #Save image after application of median filtering\n",
    "        filtered_img = Image.fromarray(filtered_arr, mode = 'RGB') \n",
    "        filtered_img.save(self.export_dir + str(krnl_sz) + \" pixel median filter \"+ self.image_key, \"JPEG\")\n",
    "        \n",
    "        return filtered_arr\n",
    "        \n",
    "        \n",
    "    #given an image and a dictionary of categories, classify each pixel's category and then replace RGB values to match category RGB\n",
    "    def naive_recolor(self, image_arr):\n",
    "        #get stack of RGB differences for each category\n",
    "        cat_stack = []\n",
    "        for cat_key in self.cat_dict:\n",
    "            cat_stack.append(self.diff(image_arr, cat_key))\n",
    "        cat_stack = np.asarray(cat_stack)\n",
    "        \n",
    "        #split stack & recolor each pixel\n",
    "        recolored_arr = []\n",
    "        pxl_stack = np.split(cat_stack, np.shape(cat_stack)[1], axis = 1)\n",
    "        for pxl in pxl_stack:\n",
    "            cat_index = np.argmin(tuple(pxl.squeeze()))  \n",
    "            recolored_arr.append(self.cat_dict[self.cat_keys[cat_index]][1])\n",
    "        recolored_arr = np.asarray(recolored_arr)\n",
    "        \n",
    "        #reshape 1D array into 2D image\n",
    "        pxl_x, pxl_y, _ = np.shape(self.image_dict[self.image_key])\n",
    "        recolored_arr = np.reshape(recolored_arr, (pxl_x, pxl_y, 3))\n",
    "        \n",
    "        #Save image after application of naive categorical recoloring\n",
    "        recolored_img = Image.fromarray(recolored_arr, mode = 'RGB') \n",
    "        recolored_img.save(self.export_dir + \" naive categorical recoloring \"+ self.image_key, \"JPEG\")\n",
    "        \n",
    "        return recolored_arr\n",
    "        \n",
    "  \n",
    "    #returns a flattened array of the euclidian distance in RGB space of each pixel in the histology image compared to the average RGB of a given category\n",
    "    def diff(self, image_arr, cat_key):\n",
    "   \n",
    "        r_diff = np.square(image_arr[:,:,0].ravel() - self.cat_dict[cat_key][0][0])\n",
    "        g_diff = np.square(image_arr[:,:,1].ravel() - self.cat_dict[cat_key][0][1])\n",
    "        b_diff = np.square(image_arr[:,:,2].ravel() - self.cat_dict[cat_key][0][2])\n",
    "    \n",
    "        return np.sqrt(r_diff + g_diff + b_diff) "
   ]
  },
  {
   "cell_type": "markdown",
   "metadata": {},
   "source": [
    "# Kowalski, Analysis!"
   ]
  },
  {
   "cell_type": "code",
   "execution_count": 53,
   "metadata": {},
   "outputs": [
    {
     "name": "stdout",
     "output_type": "stream",
     "text": [
      "{'empty.jpg': [(248.0, 242.0, 242.0), (0, 0, 0)], 'implant.jpg': [(213.0, 199.0, 190.0), (0, 0, 0)], 'implant1.jpg': [(232.0, 218.0, 215.0), (0, 0, 0)], 'tissue.jpg': [(72.0, 31.0, 29.0), (0, 0, 0)], 'tissue1.jpg': [(159.0, 117.0, 118.0), (0, 0, 0)]}\n"
     ]
    }
   ],
   "source": [
    "cat_dict = Cat_Generator(cat_dir)\n",
    "categorizer = Histology_CAT(image_dir, export_dir, cat_dict.d())\n",
    "\n",
    "print(cat_dict.d())\n",
    "\n",
    "#categorizer.visualize_dist('4109.jpg')\n",
    "#for i in range(10,101):\n",
    " #   categorizer.kmeans_quant(i)"
   ]
  },
  {
   "cell_type": "code",
   "execution_count": 54,
   "metadata": {},
   "outputs": [
    {
     "name": "stdout",
     "output_type": "stream",
     "text": [
      "All done, Skipper!\n"
     ]
    }
   ],
   "source": [
    "cat_dict = Cat_Generator(cat_dir)\n",
    "cat_dict.cat_color(\"implant.jpg\",(0,0,0)) #black (implant)\n",
    "cat_dict.cat_color(\"implant1.jpg\",(0,0,0)) #black (implant)\n",
    "cat_dict.cat_color(\"empty.jpg\",(255,255,255)) #white (empty)\n",
    "cat_dict.cat_color(\"tissue.jpg\",(120,81,169)) #purple (tissue)\n",
    "cat_dict.cat_color(\"tissue1.jpg\",(120,81,169)) #purple (tissue)\n",
    "\n",
    "categorizer = Histology_CAT(image_dir, export_dir, cat_dict.d())\n",
    "print(categorizer.kowalski(n_cluster = 10, krnl_sz = 5))"
   ]
  }
 ],
 "metadata": {
  "kernelspec": {
   "display_name": "Python 3",
   "language": "python",
   "name": "python3"
  },
  "language_info": {
   "codemirror_mode": {
    "name": "ipython",
    "version": 3
   },
   "file_extension": ".py",
   "mimetype": "text/x-python",
   "name": "python",
   "nbconvert_exporter": "python",
   "pygments_lexer": "ipython3",
   "version": "3.8.5"
  }
 },
 "nbformat": 4,
 "nbformat_minor": 4
}
